{
  "nbformat": 4,
  "nbformat_minor": 0,
  "metadata": {
    "colab": {
      "provenance": []
    },
    "kernelspec": {
      "name": "python3",
      "display_name": "Python 3"
    },
    "language_info": {
      "name": "python"
    }
  },
  "cells": [
    {
      "cell_type": "markdown",
      "source": [
        "# **Housing Sales Analysis Final Project**\n",
        "Team Members:\n",
        "Jameel Saccoh\n",
        "James Shoenhair\n",
        "Bereket Tarekegn"
      ],
      "metadata": {
        "id": "ExkCNw6yp3Y5"
      }
    },
    {
      "cell_type": "code",
      "execution_count": null,
      "metadata": {
        "id": "OCOklFT_p2Vk"
      },
      "outputs": [],
      "source": []
    }
  ]
}